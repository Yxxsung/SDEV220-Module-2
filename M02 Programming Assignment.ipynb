{
 "cells": [
  {
   "cell_type": "code",
   "execution_count": 1,
   "id": "5527b2fc-cf97-4408-9578-d5d6f9be88b1",
   "metadata": {},
   "outputs": [
    {
     "name": "stdout",
     "output_type": "stream",
     "text": [
      "2\n"
     ]
    }
   ],
   "source": [
    "secret = 2\n",
    "print(secret)"
   ]
  },
  {
   "cell_type": "markdown",
   "id": "15e127a4-e04e-433c-a668-3512b88fe886",
   "metadata": {},
   "source": [
    "The above lines set the value of the variable secret to two and then print it out so that we can confirm that it worked"
   ]
  },
  {
   "cell_type": "code",
   "execution_count": 2,
   "id": "4d3dfcd5-7773-403d-a988-04ca469e46a5",
   "metadata": {},
   "outputs": [
    {
     "name": "stdout",
     "output_type": "stream",
     "text": [
      "8\n"
     ]
    }
   ],
   "source": [
    "guess = 8\n",
    "print(guess)"
   ]
  },
  {
   "cell_type": "markdown",
   "id": "46249214-b840-49fb-807a-c4e57b61ec63",
   "metadata": {},
   "source": [
    "The above lines set the value of the variable guess to 8 and then print it out so that we can confirm that it worked"
   ]
  },
  {
   "cell_type": "code",
   "execution_count": 6,
   "id": "86b22d63-ea3a-42a7-8780-4f2bf5851c35",
   "metadata": {},
   "outputs": [],
   "source": [
    "if guess<secret:\n",
    "    print(\"Too Low.\")\n"
   ]
  },
  {
   "cell_type": "markdown",
   "id": "e0356777-e2b1-4c49-9125-1bd15b9941ac",
   "metadata": {},
   "source": [
    "The above lines say that if the value of guess is LESS THAN the value of secret, print the phrase Too Low"
   ]
  },
  {
   "cell_type": "code",
   "execution_count": 8,
   "id": "e7f35071-9de7-41f2-a44f-82c38f4abc77",
   "metadata": {},
   "outputs": [
    {
     "name": "stdout",
     "output_type": "stream",
     "text": [
      "Too High.\n"
     ]
    }
   ],
   "source": [
    "if guess<secret:\n",
    "    print(\"Too Low.\")\n",
    "\n",
    "elif guess>secret:\n",
    "    print(\"Too High.\")"
   ]
  },
  {
   "cell_type": "markdown",
   "id": "144e0783-eec6-4865-9a52-5096565757f2",
   "metadata": {},
   "source": [
    "The next block says that else, if guess is greater than secret, print the phrase Too High"
   ]
  },
  {
   "cell_type": "code",
   "execution_count": 9,
   "id": "2aa73c12-cd38-47ea-a807-e601337552b7",
   "metadata": {},
   "outputs": [
    {
     "name": "stdout",
     "output_type": "stream",
     "text": [
      "Too High.\n"
     ]
    }
   ],
   "source": [
    "if guess<secret:\n",
    "    print(\"Too Low.\")\n",
    "\n",
    "elif guess>secret:\n",
    "    print(\"Too High.\")\n",
    "\n",
    "else:\n",
    "    print(\"Just Right\")"
   ]
  },
  {
   "cell_type": "markdown",
   "id": "42590d17-2787-444e-9350-d6a5b93aa22a",
   "metadata": {},
   "source": [
    "The next section says that else, meaning if neither of the above statements are true, print Just Right"
   ]
  },
  {
   "cell_type": "code",
   "execution_count": 19,
   "id": "59a627b2-a883-497a-959a-22dd59d2112f",
   "metadata": {},
   "outputs": [
    {
     "name": "stdout",
     "output_type": "stream",
     "text": [
      "True\n",
      "True\n",
      "This food is green\n",
      "This food is small\n"
     ]
    }
   ],
   "source": [
    "small = bool(True)\n",
    "print(small)\n",
    "\n",
    "green = bool(True)\n",
    "print(green)\n",
    "\n",
    "food = \"pea\"\n",
    "\n",
    "if food == \"pea\" or \"watermelon\":\n",
    "    green = bool(True)\n",
    "    print(\"This food is green\")\n",
    "else:\n",
    "    green = bool(False)\n",
    "    print(\"This food is not green\")\n",
    "\n",
    "if food == \"pea\" or \"cherry\":\n",
    "    small = bool(True)\n",
    "    print(\"This food is small\")\n",
    "else:\n",
    "    small = bool(False)\n",
    "    print(\"This food is not small\")"
   ]
  },
  {
   "cell_type": "markdown",
   "id": "da1e332e-40d0-489d-8f41-d931943c347d",
   "metadata": {},
   "source": [
    "The above code determines if the food is green or small using if and else loops"
   ]
  },
  {
   "cell_type": "code",
   "execution_count": 28,
   "id": "80e5f465-2b76-42e9-acba-cd3779ee1540",
   "metadata": {},
   "outputs": [
    {
     "name": "stdout",
     "output_type": "stream",
     "text": [
      "3\n",
      "2\n",
      "1\n",
      "0\n"
     ]
    }
   ],
   "source": [
    "numbers = [3,2,1,0]\n",
    "\n",
    "for x in numbers:\n",
    "    print(x)"
   ]
  },
  {
   "cell_type": "markdown",
   "id": "b7f3673f-e668-4603-abe4-2248e81ec5e2",
   "metadata": {},
   "source": [
    "The above code cycles through the foods variable values using a for loop. know that x does not stand for an integer but for the current place of foods\n",
    "for example, in the first iteration x = pumpkin, not x = 1. This can be confusing if you don't pay attention"
   ]
  },
  {
   "cell_type": "code",
   "execution_count": null,
   "id": "38a7ef68-fc27-4c7d-b471-03eb4da7a1ab",
   "metadata": {},
   "outputs": [],
   "source": [
    "guess_me = 7\n",
    "\n",
    "number = 1\n",
    "\n",
    "while number<guess_me:\n",
    "    print(\"Too Low\")\n",
    "    number=number+1\n",
    "\n",
    "if number>guess_me:\n",
    "    print(\"oops\")\n",
    "\n",
    "if number==guess_me:\n",
    "    print(\"found it!\")"
   ]
  },
  {
   "cell_type": "markdown",
   "id": "b1e049fb-2b25-4aac-9214-ee029d538eea",
   "metadata": {},
   "source": [
    "The above code says compares the variables guess_me and number"
   ]
  },
  {
   "cell_type": "code",
   "execution_count": null,
   "id": "adaf4ab3-f978-4dd0-93cd-c7fba85ce8c8",
   "metadata": {},
   "outputs": [],
   "source": [
    "guess_me = 5\n",
    "\n",
    "for number in range(10):\n",
    "    if number<guess_me:\n",
    "        print(\"too low\")\n",
    "    elif number==guess_me:\n",
    "        print(\"I found it!\")"
   ]
  }
 ],
 "metadata": {
  "kernelspec": {
   "display_name": "Python 3 (ipykernel)",
   "language": "python",
   "name": "python3"
  },
  "language_info": {
   "codemirror_mode": {
    "name": "ipython",
    "version": 3
   },
   "file_extension": ".py",
   "mimetype": "text/x-python",
   "name": "python",
   "nbconvert_exporter": "python",
   "pygments_lexer": "ipython3",
   "version": "3.11.7"
  }
 },
 "nbformat": 4,
 "nbformat_minor": 5
}
